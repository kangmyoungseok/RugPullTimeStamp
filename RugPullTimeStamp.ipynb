{
  "nbformat": 4,
  "nbformat_minor": 0,
  "metadata": {
    "colab": {
      "name": "RugPullTimeStamp.ipynb",
      "provenance": [],
      "collapsed_sections": [
        "exDCyLcmYT0x",
        "ITLlukRsYYmD"
      ],
      "mount_file_id": "1ijxABmQ7yQTwJoq29Gu-J1LH7_tqdoDt",
      "authorship_tag": "ABX9TyOY0wV7el6y413TdPNuaei4",
      "include_colab_link": true
    },
    "kernelspec": {
      "name": "python3",
      "display_name": "Python 3"
    },
    "language_info": {
      "name": "python"
    }
  },
  "cells": [
    {
      "cell_type": "markdown",
      "metadata": {
        "id": "view-in-github",
        "colab_type": "text"
      },
      "source": [
        "<a href=\"https://colab.research.google.com/github/kangmyoungseok/RugPullTimeStamp/blob/main/RugPullTimeStamp.ipynb\" target=\"_parent\"><img src=\"https://colab.research.google.com/assets/colab-badge.svg\" alt=\"Open In Colab\"/></a>"
      ]
    },
    {
      "cell_type": "markdown",
      "metadata": {
        "id": "QVOh5kIkqaDf"
      },
      "source": [
        "#Main py"
      ]
    },
    {
      "cell_type": "code",
      "metadata": {
        "colab": {
          "base_uri": "https://localhost:8080/",
          "height": 365
        },
        "id": "g5dKgfjCdvHs",
        "outputId": "61d1356d-a5b5-45a9-e979-421179e96e2f"
      },
      "source": [
        "#RugPull이 일어난 시점의 TimeStamp를 구해서 Paris_v1.x파일에 추가한다.\n",
        "#Pre-Condition : Pairs_v1.4.csv파일\n",
        "import json\n",
        "import pandas as pd\n",
        "from pandas.core.frame import DataFrame\n",
        "import datetime\n",
        "# json 파일과 Pair를 메모리에 먼저 올린다.\n",
        "with open('/content/drive/MyDrive/swap.json', 'r') as f:\n",
        "    swap_data = json.load(f)\n",
        "\n",
        "with open('/content/drive/MyDrive/mint.json', 'r') as f:\n",
        "    mint_data = json.load(f)\n",
        "\n",
        "with open('/content/drive/MyDrive/burn.json', 'r') as f:\n",
        "    burn_data = json.load(f)\n",
        "\n",
        "#메모리 공간 활용을 위해서 Pairs파일에서 필요한 열(id,token0,token1)만 올리기\n",
        "#아래의 데이터는 swap/mint/burn에서 amount0이 이더인지 amount1이 이더인지를 판단하기 위해서 필요\n",
        "datas = pd.read_csv('/content/drive/MyDrive/Pairs_v1.5.csv',usecols=['id','token0.name','token1.name']).to_dict('records')\n",
        "token_pairs = {}\n",
        "for data in datas:\n",
        "    tmp_dict = {data['id'] : {'token0.name':data['token0.name'],'token1.name':data['token1.name']}}\n",
        "    token_pairs.update(tmp_dict)\n",
        "del datas\n",
        "\n",
        "\n",
        "# Pair_address를 주면 토큰이 token0인지 token1인지 판단. 0,1로 리턴\n",
        "def token_index(pair_address): \n",
        "    if(token_pairs[pair_address]['token0.name'] =='Wrapped Ether' ):\n",
        "      return  1\n",
        "    else:\n",
        "      return 0\n",
        "  \n",
        "#get_xxx_mean_period 는 mint/burn/swap의 ActivePeriod 상에서의 비율 표시\n",
        "def get_mint_mean_period(mint_data_transaction,initial_timestamp):\n",
        "    count = len(mint_data_transaction)\n",
        "    if(count == 0):\n",
        "      return 0\n",
        "    mint_time_add = 0\n",
        "    for transaction in mint_data_transaction:\n",
        "      mint_time_add = mint_time_add + int(transaction['timestamp']) - initial_timestamp\n",
        "    return mint_time_add / count\n",
        "\n",
        "def get_swap_mean_period(swap_data_transaction,initial_timestamp):\n",
        "    count = len(swap_data_transaction)\n",
        "    if(count == 0):\n",
        "      return 0\n",
        "    swap_time_add = 0\n",
        "    for transaction in swap_data_transaction:\n",
        "      swap_time_add = swap_time_add +  int(transaction['timestamp']) - initial_timestamp\n",
        "    return swap_time_add / count\n",
        "\n",
        "\n",
        "def get_burn_mean_period(burn_data_transaction,initial_timestamp):\n",
        "    count = len(burn_data_transaction)\n",
        "    if(count == 0):\n",
        "      return 0\n",
        "    burn_time_add = 0\n",
        "    for transaction in burn_data_transaction:\n",
        "      burn_time_add = burn_time_add + int(transaction['timestamp']) - initial_timestamp\n",
        "    return burn_time_add / count\n",
        "\n",
        "def swap_IO_rate(swap_data_transaction,index):\n",
        "  swapIn = 0\n",
        "  swapOut = 0\n",
        "  if(index == 1): #amount0이 이더.\n",
        "    for data in swap_data_transaction:\n",
        "      if(data['amount0In'] == '0'): #amount0Out이 0이 아니란 말. \n",
        "        swapOut = swapOut + 1\n",
        "      else:   \n",
        "        swapIn = swapIn + 1\n",
        "  else:         #amount1이 이더\n",
        "    for data in swap_data_transaction:\n",
        "      if(data['amount1In'] == '0'):\n",
        "        swapOut = swapOut + 1\n",
        "      else:\n",
        "        swapIn = swapIn +1\n",
        "  \n",
        "  return swapIn,swapOut \n",
        "\n",
        "def get_last_timestamp(mint_data_transaction,swap_data_transaction,burn_data_transaction):\n",
        "  #mint_data_transaction은 0일 수가 없다. \n",
        "  swap_len = len(swap_data_transaction)\n",
        "  burn_len = len(burn_data_transaction)\n",
        "  #Case 1 Swap / Burn 전부 0 인경우\n",
        "  if(swap_len == 0 and burn_len == 0):\n",
        "    return int(mint_data_transaction[-1]['timestamp'])\n",
        "  #Case 2 Swap_transaction이 0 인경우\n",
        "  if(swap_len == 0):\n",
        "    return int(max(mint_data_transaction[-1]['timestamp'],burn_data_transaction[-1]['timestamp']))\n",
        "  #Case 3 Burn Transaction이 0 인경우\n",
        "  if(burn_len == 0):\n",
        "    return int(max(mint_data_transaction[-1]['timestamp'],swap_data_transaction[-1]['timestamp']))\n",
        "  #Case 4 전부다 있는 경우\n",
        "  return int(max(mint_data_transaction[-1]['timestamp'],burn_data_transaction[-1]['timestamp'],swap_data_transaction[-1]['timestamp']))\n",
        "  \n",
        "\n",
        "def get_swap_amount(swap_data_transaction,j,eth_amountIn,eth_amountOut):\n",
        "  if(swap_data_transaction[j][eth_amountIn] == '0'): #amountIn이 0 이면 out이라는 거지.\n",
        "    return float(swap_data_transaction[j][eth_amountOut]) * (-1)\n",
        "  else:\n",
        "    return float(swap_data_transaction[j][eth_amountIn])\n",
        "\n",
        "\n",
        "def get_timestamp(data_transaction,index):\n",
        "  try:\n",
        "    return data_transaction[index]['timestamp']\n",
        "  except:\n",
        "    return '99999999999'\n",
        "\n",
        "\n",
        "def check_rugpull(initial_Eth, current_Eth):\n",
        "  if ( float(current_Eth) / float(initial_Eth) < 0.2 ):\n",
        "    print('rugpull occur')\n",
        "    return True\n",
        "  else:\n",
        "    return False\n",
        "\n",
        "def get_rugpull_timestamp(mint_data_transaction,swap_data_transaction,burn_data_transaction,index):\n",
        "    if(index == 1):\n",
        "      eth_amount = 'amount0'\n",
        "      eth_amountIn = 'amount0In'\n",
        "      eth_amountOut = 'amount0Out'\n",
        "    else:\n",
        "      eth_amount = 'amount1'\n",
        "      eth_amountIn = 'amount1In'\n",
        "      eth_amountOut = 'amount1Out'\n",
        "    \n",
        "    #각각 배열의 길이를 구해서 반복문 끝 조절\n",
        "    mint_count = len(mint_data_transaction)\n",
        "    swap_count = len(swap_data_transaction)\n",
        "    burn_count = len(burn_data_transaction)\n",
        "\n",
        "    \n",
        "    #유동성에 남아있는 이더를 지속적으로 보면서 러그풀이 언제 발생하는지 탐지\n",
        "    initial_Liquidity_Eth = float(mint_data_transaction[0][eth_amount])\n",
        "    current_Liquidity_Eth = 0\n",
        "    rugpull_timestamp = 0\n",
        "\n",
        "    i,j,k = 0,0,0   #mint,swap,burn 배열의 인덱스\n",
        "    while True:\n",
        "        \n",
        "      next_timestamp = min(get_timestamp(mint_data_transaction,i),get_timestamp(burn_data_transaction,k))\n",
        "\n",
        "      #swap 인 경우 current_Eth 더하는 로직 / 러그풀 타임스탬프 체크\n",
        "      while(get_timestamp(swap_data_transaction,j) < next_timestamp ):\n",
        "        #swap이 제일 타임스탬프가 작은 경우니까 스왑에 맞게 amount +-를 하면 된다.\n",
        "        current_Liquidity_Eth = current_Liquidity_Eth + get_swap_amount(swap_data_transaction,j,eth_amountIn,eth_amountOut)\n",
        "        if(check_rugpull(initial_Liquidity_Eth,current_Liquidity_Eth)):\n",
        "          return get_timestamp(swap_data_transaction,j), float(current_Liquidity_Eth / initial_Liquidity_Eth) -1, True\n",
        "        j = j+1\n",
        "\n",
        "      #mint 인 경우 curruent_Eth 더하는 로직\n",
        "      if(next_timestamp == get_timestamp(mint_data_transaction,i)): #mint가 최소라면, + 한다.\n",
        "        if(next_timestamp == '99999999999'):  #이건 rugpull이 없는 경우\n",
        "          try:\n",
        "            return max(mint_data_transaction[-1]['timestamp'],burn_data_transaction[-1]['timestamp'],swap_data_transaction[-1]['timestamp']), float(current_Liquidity_Eth / initial_Liquidity_Eth), False\n",
        "          except:\n",
        "            return '-1',-1\n",
        "        current_Liquidity_Eth = current_Liquidity_Eth + float(mint_data_transaction[i][eth_amount]) \n",
        "        i = i+1\n",
        "\n",
        "      #burn 인 경우 current_Eth 빼는 로직 / 러그풀 타임스탬프 체\n",
        "      else:\n",
        "        print(burn_data_transaction)\n",
        "        current_Liquidity_Eth = current_Liquidity_Eth - float(burn_data_transaction[k][eth_amount])\n",
        "        if(check_rugpull(initial_Liquidity_Eth,current_Liquidity_Eth)):\n",
        "          return get_timestamp(burn_data_transaction,k), float(current_Liquidity_Eth / initial_Liquidity_Eth) -1, True\n",
        "        k = k+1\n",
        "\n",
        "total_list = []\n",
        "\n",
        "for pair_address,swap_list in mint_data.items():\n",
        "    tmp_dict = {}\n",
        "    mint_data_transaction = mint_data[pair_address]\n",
        "    swap_data_transaction = swap_data[pair_address]\n",
        "    burn_data_transaction = burn_data[pair_address]\n",
        "    # 각각의 count 구하기\n",
        "    mint_count = len(mint_data_transaction)\n",
        "    swap_count = len(swap_data_transaction)\n",
        "    burn_count = len(burn_data_transaction)\n",
        "\n",
        "    # Mint/Burn/Swap의 Active Period 상의 분포 \n",
        "    initial_timestamp = int(mint_data_transaction[0]['timestamp'])\n",
        "    last_timestamp = get_last_timestamp(mint_data_transaction,swap_data_transaction,burn_data_transaction)\n",
        "    active_period = last_timestamp - initial_timestamp\n",
        "    mint_mean_period = int(get_mint_mean_period(mint_data_transaction,initial_timestamp))\n",
        "    swap_mean_period = int(get_swap_mean_period(swap_data_transaction,initial_timestamp))\n",
        "    burn_mean_period = int(get_burn_mean_period(burn_data_transaction,initial_timestamp))\n",
        "\n",
        "    #SwapIn/SwapOut 비율\n",
        "    swapIn,swapOut = swap_IO_rate(swap_data_transaction,token_index(pair_address))    \n",
        "\n",
        "    #rugpull timestamp , 러그풀 시점에서 유동성 풀에 있는 이더 변화량(rugpull timestamp / change)\n",
        "    rugpull_timestamp, rugpull_change, is_rugpull = get_rugpull_timestamp(mint_data_transaction,swap_data_transaction,burn_data_transaction,token_index(pair_address))\n",
        "\n",
        "    #rugpull 이 시작부터 끝날때까지 경과한 시간\n",
        "    rugpull_proceeding_time = int(rugpull_timestamp) - int(initial_timestamp)\n",
        "\n",
        "    #데이터 모아서 하나의 dictionary로 \n",
        "    tmp_dict['id'] = pair_address\n",
        "    tmp_dict['mint_count'] = mint_count\n",
        "    tmp_dict['swap_count'] = swap_count\n",
        "    tmp_dict['burn_count'] = burn_count\n",
        "    tmp_dict['mint_mean_period'] = mint_mean_period\n",
        "    tmp_dict['swap_mean_period'] = swap_mean_period\n",
        "    tmp_dict['burn_mean_period'] = burn_mean_period\n",
        "    tmp_dict['swapIn'] = swapIn\n",
        "    tmp_dict['swapOut'] = swapOut\n",
        "    tmp_dict['active_period'] = active_period\n",
        "    tmp_dict['rugpull_timestamp'] = rugpull_timestamp\n",
        "    tmp_dict['rugpull_timestamp_date'] = datetime.datetime.fromtimestamp(int(rugpull_timestamp)).strftime('%Y-%m-%d %H:%M:%S')\n",
        "    tmp_dict['rugpull_change'] = rugpull_change \n",
        "    tmp_dict['rugpull_proceeding_time'] = rugpull_proceeding_time / 86400\n",
        "    tmp_dict['is_rugpull'] = is_rugpull\n",
        "    #전체 배열에 하나의 원소로 더한다.\n",
        "    total_list.append(tmp_dict)\n",
        "\n",
        "DataFrame(total_list).to_csv('result.csv',encoding='utf-8-sig')"
      ],
      "execution_count": 22,
      "outputs": [
        {
          "output_type": "error",
          "ename": "KeyError",
          "evalue": "ignored",
          "traceback": [
            "\u001b[0;31m---------------------------------------------------------------------------\u001b[0m",
            "\u001b[0;31mKeyError\u001b[0m                                  Traceback (most recent call last)",
            "\u001b[0;32m<ipython-input-22-61da9d3ec927>\u001b[0m in \u001b[0;36m<module>\u001b[0;34m()\u001b[0m\n\u001b[1;32m    190\u001b[0m \u001b[0;34m\u001b[0m\u001b[0m\n\u001b[1;32m    191\u001b[0m     \u001b[0;31m#SwapIn/SwapOut 비율\u001b[0m\u001b[0;34m\u001b[0m\u001b[0;34m\u001b[0m\u001b[0;34m\u001b[0m\u001b[0m\n\u001b[0;32m--> 192\u001b[0;31m     \u001b[0mswapIn\u001b[0m\u001b[0;34m,\u001b[0m\u001b[0mswapOut\u001b[0m \u001b[0;34m=\u001b[0m \u001b[0mswap_IO_rate\u001b[0m\u001b[0;34m(\u001b[0m\u001b[0mswap_data_transaction\u001b[0m\u001b[0;34m,\u001b[0m\u001b[0mtoken_index\u001b[0m\u001b[0;34m(\u001b[0m\u001b[0mpair_address\u001b[0m\u001b[0;34m)\u001b[0m\u001b[0;34m)\u001b[0m\u001b[0;34m\u001b[0m\u001b[0;34m\u001b[0m\u001b[0m\n\u001b[0m\u001b[1;32m    193\u001b[0m \u001b[0;34m\u001b[0m\u001b[0m\n\u001b[1;32m    194\u001b[0m     \u001b[0;31m#rugpull timestamp , 러그풀 시점에서 유동성 풀에 있는 이더 변화량(rugpull timestamp / change)\u001b[0m\u001b[0;34m\u001b[0m\u001b[0;34m\u001b[0m\u001b[0;34m\u001b[0m\u001b[0m\n",
            "\u001b[0;32m<ipython-input-22-61da9d3ec927>\u001b[0m in \u001b[0;36mtoken_index\u001b[0;34m(pair_address)\u001b[0m\n\u001b[1;32m     27\u001b[0m \u001b[0;31m# Pair_address를 주면 토큰이 token0인지 token1인지 판단. 0,1로 리턴\u001b[0m\u001b[0;34m\u001b[0m\u001b[0;34m\u001b[0m\u001b[0;34m\u001b[0m\u001b[0m\n\u001b[1;32m     28\u001b[0m \u001b[0;32mdef\u001b[0m \u001b[0mtoken_index\u001b[0m\u001b[0;34m(\u001b[0m\u001b[0mpair_address\u001b[0m\u001b[0;34m)\u001b[0m\u001b[0;34m:\u001b[0m\u001b[0;34m\u001b[0m\u001b[0;34m\u001b[0m\u001b[0m\n\u001b[0;32m---> 29\u001b[0;31m     \u001b[0;32mif\u001b[0m\u001b[0;34m(\u001b[0m\u001b[0mtoken_pairs\u001b[0m\u001b[0;34m[\u001b[0m\u001b[0mpair_address\u001b[0m\u001b[0;34m]\u001b[0m\u001b[0;34m[\u001b[0m\u001b[0;34m'token0.name'\u001b[0m\u001b[0;34m]\u001b[0m \u001b[0;34m==\u001b[0m\u001b[0;34m'Wrapped Ether'\u001b[0m \u001b[0;34m)\u001b[0m\u001b[0;34m:\u001b[0m\u001b[0;34m\u001b[0m\u001b[0;34m\u001b[0m\u001b[0m\n\u001b[0m\u001b[1;32m     30\u001b[0m       \u001b[0;32mreturn\u001b[0m  \u001b[0;36m1\u001b[0m\u001b[0;34m\u001b[0m\u001b[0;34m\u001b[0m\u001b[0m\n\u001b[1;32m     31\u001b[0m     \u001b[0;32melse\u001b[0m\u001b[0;34m:\u001b[0m\u001b[0;34m\u001b[0m\u001b[0;34m\u001b[0m\u001b[0m\n",
            "\u001b[0;31mKeyError\u001b[0m: '0xfa3c4cd7da540d56042b16bc71bd478c7e9b23c1'"
          ]
        }
      ]
    },
    {
      "cell_type": "markdown",
      "metadata": {
        "id": "exDCyLcmYT0x"
      },
      "source": [
        "#SwapIn/Out 구현"
      ]
    },
    {
      "cell_type": "code",
      "metadata": {
        "id": "V4u-lDT_EWQe"
      },
      "source": [
        "def swap_IO_rate(swap_data_transaction,index):\n",
        "  swapIn = 0\n",
        "  swapOut = 0\n",
        "  if(index == 1): #amount0이 이더.\n",
        "    for data in swap_data_transaction:\n",
        "      if(data['amount0In'] == '0'): #amount0Out이 0이 아니란 말. \n",
        "        swapOut = swapOut + 1\n",
        "      else:   \n",
        "        swapIn = swapIn + 1\n",
        "  else:         #amount1이 이더\n",
        "    for data in swap_data_transaction:\n",
        "      if(data['amount1In'] == '0'):\n",
        "        swapOut = swapOut + 1\n",
        "      else:\n",
        "        swapIn = swapIn +1\n",
        "  \n",
        "  return swapIn,swapOut \n"
      ],
      "execution_count": null,
      "outputs": []
    },
    {
      "cell_type": "markdown",
      "metadata": {
        "id": "ITLlukRsYYmD"
      },
      "source": [
        "#get_rugpull_timestamp 구현"
      ]
    },
    {
      "cell_type": "code",
      "metadata": {
        "colab": {
          "base_uri": "https://localhost:8080/",
          "height": 134
        },
        "id": "ClpxzrHzuRc3",
        "outputId": "2b51d601-71a7-4028-c298-fd1a886426ab"
      },
      "source": [
        "def get_rugpull_timestamp(mint_data_transaction,swap_data_transaction,burn_data_transaction,index):\n",
        "    if(index == 1):\n",
        "      amount = 'amount0'\n",
        "      amountIn = 'amount0In'\n",
        "      amountOut = 'amount0Out'\n",
        "    else:\n",
        "      amount = 'amount1'\n",
        "      amountIn = 'amount1In'\n",
        "      amountOut = 'amount1Out'\n",
        "    \n",
        "    #각각 배열의 길이를 구해서 반복문 끝 조절\n",
        "    mint_count = len(mint_data_transaction)\n",
        "    swap_count = len(swap_data_transaction)\n",
        "    burn_count = len(burn_data_transaction)\n",
        "\n",
        "    \n",
        "    #유동성에 남아있는 이더를 지속적으로 보면서 러그풀이 언제 발생하는지 탐지\n",
        "    initial_Liquidity_Eth = mint_data_transaction[0][amount]\n",
        "    current_Liquidity_Eth = 0\n",
        "    rugpull_timestamp = 0\n",
        "\n",
        "    while True:\n",
        "      i,j,k = 0,0,0   #mint,swap,burn 배열의 인덱스\n",
        "\n",
        "      if(mint_data_transaction[i]['timestamp'] <= burn_data_transaction[k]['timestamp']): #mint가 더 작인경우\n",
        "        \n",
        "\n",
        "\n",
        "    #CASE1 : Swap/Burn이 하나도 없는 경우\n",
        "    if ((swap_count == 0) and (burn_count == 0):# swap/burn이 하나도 없는 경우, 러그풀일 수가 없네 가장 마지막 timestamp 찍고 나가라\n",
        "      return mint_data_transaction[-1]['timestamp'],'no rug pull'\n",
        "\n",
        "    #CASE2 : Swap이 하나도 없는 경우,mint/burn만 비교한다.\n",
        "    if (swap_count == 0):\n",
        "      i,j = 0,0\n",
        "      while(True):\n",
        "        if(mint_data_transaction[i]['timestamp'] <= burn_data_transaction[j]['timestamp']):\n",
        "          current_Liquidity_Eth = current_Liquidity_Eth + mint_data_transaction[i][amount]\n",
        "          i = i+1\n",
        "          if(i == mint_count):  #mint데이터가 더이상 없으면 burn 데이터 전부 빼면서 조건 체크한다.\n",
        "            for j in (j,burn_count):\n",
        "              \n",
        "            \n",
        "              \n",
        "\n",
        "        \n",
        "\n",
        "\n",
        "\n",
        "    initial_Liquidity_Eth = mint_data_transaction[0]\n",
        "    \n",
        "    if(swap_count == 0):\n",
        "\n",
        "    while(1):\n",
        "      i,j,k = 0,0,0\n",
        "      max_timestamp = \n",
        "\n",
        "\n",
        "  return rugpull_timestamp"
      ],
      "execution_count": null,
      "outputs": [
        {
          "output_type": "error",
          "ename": "IndentationError",
          "evalue": "ignored",
          "traceback": [
            "\u001b[0;36m  File \u001b[0;32m\"<ipython-input-47-d308e1ed0f8c>\"\u001b[0;36m, line \u001b[0;32m9\u001b[0m\n\u001b[0;31m    while(1):\u001b[0m\n\u001b[0m        ^\u001b[0m\n\u001b[0;31mIndentationError\u001b[0m\u001b[0;31m:\u001b[0m expected an indented block\n"
          ]
        }
      ]
    },
    {
      "cell_type": "code",
      "metadata": {
        "colab": {
          "base_uri": "https://localhost:8080/"
        },
        "id": "qYuApyOZew6U",
        "outputId": "6c87593f-9ea3-406c-c13e-5084724bc79d"
      },
      "source": [
        "def get_timestamp(data_transaction,index):\n",
        "  try:\n",
        "    return data_transaction[index]['timestamp']\n",
        "  except:\n",
        "    return '999999999999'"
      ],
      "execution_count": null,
      "outputs": [
        {
          "output_type": "stream",
          "name": "stdout",
          "text": [
            "1\n"
          ]
        }
      ]
    },
    {
      "cell_type": "code",
      "metadata": {
        "colab": {
          "base_uri": "https://localhost:8080/"
        },
        "id": "7GJuaA3Pilj3",
        "outputId": "245f11e4-2055-4a2e-f547-c36a73c06429"
      },
      "source": [
        "def check_rugpull(initial_Eth, current_Eth):\n",
        "  if (initial_Eth/current_Eth)"
      ],
      "execution_count": null,
      "outputs": [
        {
          "output_type": "stream",
          "name": "stdout",
          "text": [
            "2\n",
            "3\n",
            "4\n",
            "5\n",
            "6\n",
            "7\n",
            "8\n",
            "9\n"
          ]
        }
      ]
    },
    {
      "cell_type": "code",
      "metadata": {
        "colab": {
          "base_uri": "https://localhost:8080/",
          "height": 188
        },
        "id": "YOyjHeBXZd8J",
        "outputId": "237d23f0-6823-4c7f-d19b-e366db332d76"
      },
      "source": [
        "blank_list = []\n",
        "blank_list[0]"
      ],
      "execution_count": null,
      "outputs": [
        {
          "output_type": "error",
          "ename": "IndexError",
          "evalue": "ignored",
          "traceback": [
            "\u001b[0;31m---------------------------------------------------------------------------\u001b[0m",
            "\u001b[0;31mIndexError\u001b[0m                                Traceback (most recent call last)",
            "\u001b[0;32m<ipython-input-48-3e0e6c2176a0>\u001b[0m in \u001b[0;36m<module>\u001b[0;34m()\u001b[0m\n\u001b[1;32m      1\u001b[0m \u001b[0mblank_list\u001b[0m \u001b[0;34m=\u001b[0m \u001b[0;34m[\u001b[0m\u001b[0;34m]\u001b[0m\u001b[0;34m\u001b[0m\u001b[0;34m\u001b[0m\u001b[0m\n\u001b[0;32m----> 2\u001b[0;31m \u001b[0mblank_list\u001b[0m\u001b[0;34m[\u001b[0m\u001b[0;36m0\u001b[0m\u001b[0;34m]\u001b[0m\u001b[0;34m\u001b[0m\u001b[0;34m\u001b[0m\u001b[0m\n\u001b[0m",
            "\u001b[0;31mIndexError\u001b[0m: list index out of range"
          ]
        }
      ]
    },
    {
      "cell_type": "code",
      "metadata": {
        "colab": {
          "base_uri": "https://localhost:8080/"
        },
        "id": "Rp_pcmJ0uWMd",
        "outputId": "4d77fa22-c690-4380-fd3f-be68780da5c8"
      },
      "source": [
        "mint_data_transaction"
      ],
      "execution_count": null,
      "outputs": [
        {
          "output_type": "execute_result",
          "data": {
            "text/plain": [
              "[{'amount0': '25000000000',\n",
              "  'amount1': '11',\n",
              "  'sender': '0x7a250d5630b4cf539739df2c5dacb4c659f2488d',\n",
              "  'test': '123',\n",
              "  'timestamp': '1626033500',\n",
              "  'to': '0x164b574f9922464092103d812f94b731ab6d352e'}]"
            ]
          },
          "metadata": {},
          "execution_count": 46
        }
      ]
    },
    {
      "cell_type": "code",
      "metadata": {
        "id": "bG3Ag3tWuXHL"
      },
      "source": [
        ""
      ],
      "execution_count": null,
      "outputs": []
    },
    {
      "cell_type": "markdown",
      "metadata": {
        "id": "_BD7zTSYnIuf"
      },
      "source": [
        "#Get_last_timestamp 구현"
      ]
    },
    {
      "cell_type": "code",
      "metadata": {
        "id": "JTWmni3omPyG"
      },
      "source": [
        "def get_last_timestamp(mint_data_transaction,burn_data_transaction,swap_data_transaction):\n",
        "  #mint_data_transaction은 0일 수가 없다. \n",
        "  swap_len = len(swap_data_transaction)\n",
        "  burn_len = len(burn_data_transaction)\n",
        "  #Case 1 Swap / Burn 전부 0 인경우\n",
        "  if(swap_len == 0 and burn_len == 0):\n",
        "    return last_timestamp = int(mint_data_transaction[-1]['timestamp'])\n",
        "  #Case 2 Swap_transaction이 0 인경우\n",
        "  if(swap_len == 0):\n",
        "    return last_timestamp = int(max(mint_data_transaction[-1]['timestamp'],burn_data_transaction[-1]['timestamp']))\n",
        "  #Case 3 Burn Transaction이 0 인경우\n",
        "  if(burn_len == 0):\n",
        "    return int(max(mint_data_transaction[-1]['timestamp'],swap_data_transaction[-1]['timestamp']))\n",
        "  #Case 4 전부다 있는 경우\n",
        "  return int(max(mint_data_transaction[-1]['timestamp'],burn_data_transaction[-1]['timestamp'],swap_data_transaction[-1]['timestamp']))\n",
        "  "
      ],
      "execution_count": null,
      "outputs": []
    },
    {
      "cell_type": "code",
      "metadata": {
        "id": "6Z-6Ru_7tRA0"
      },
      "source": [
        "import datetime\n",
        "date = datetime.datetime.fromtimestamp(1626104040).strftime('%Y-%m-%d %H:%M:%S')\n"
      ],
      "execution_count": 18,
      "outputs": []
    },
    {
      "cell_type": "code",
      "metadata": {
        "colab": {
          "base_uri": "https://localhost:8080/",
          "height": 35
        },
        "id": "XzYbCxvstWIN",
        "outputId": "ccb128fd-2fd0-4496-d1b3-bb38768a5542"
      },
      "source": [
        "date"
      ],
      "execution_count": 19,
      "outputs": [
        {
          "output_type": "execute_result",
          "data": {
            "application/vnd.google.colaboratory.intrinsic+json": {
              "type": "string"
            },
            "text/plain": [
              "'2021-07-12 15:34:00'"
            ]
          },
          "metadata": {},
          "execution_count": 19
        }
      ]
    },
    {
      "cell_type": "code",
      "metadata": {
        "id": "cOJGn34jtWzU"
      },
      "source": [
        ""
      ],
      "execution_count": null,
      "outputs": []
    }
  ]
}